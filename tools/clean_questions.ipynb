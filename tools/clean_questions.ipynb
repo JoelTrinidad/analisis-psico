{
 "cells": [
  {
   "cell_type": "markdown",
   "metadata": {},
   "source": [
    "# Clean Recode P1-P3\n"
   ]
  },
  {
   "cell_type": "markdown",
   "metadata": {},
   "source": [
    "## P1, P2, P3a, P3b\n"
   ]
  },
  {
   "cell_type": "code",
   "execution_count": 2,
   "metadata": {},
   "outputs": [],
   "source": [
    "P2CLN = 0\n",
    "P1 = 0\n",
    "P2 = 0\n",
    "P3 = 0\n",
    "Valid = 0"
   ]
  },
  {
   "cell_type": "markdown",
   "metadata": {},
   "source": [
    "### Checks for a valid response to P2\n"
   ]
  },
  {
   "cell_type": "markdown",
   "metadata": {},
   "source": [
    "Devuelve true si la P1 es verdadero y si P2 esta entre 1 y 7 o si P2 es 0 o 99, devuelve false en otro caso.\n"
   ]
  },
  {
   "cell_type": "code",
   "execution_count": null,
   "metadata": {},
   "outputs": [],
   "source": [
    "P2PositivePath = P2 >= 1 and P2 <= 7\n",
    "P2NegativePath = P2 == 0 or P2 == 99"
   ]
  },
  {
   "cell_type": "code",
   "execution_count": null,
   "metadata": {},
   "outputs": [],
   "source": [
    "P2CLN = P1 and (P2PositivePath or P2NegativePath)"
   ]
  },
  {
   "cell_type": "code",
   "execution_count": null,
   "metadata": {},
   "outputs": [],
   "source": [
    "P2CLN = True if ((P1 == True and P2 > 0 and P2 < 8) or P1 ==\n",
    "                 False and (P2 == 0 or P2 == 99)) else False"
   ]
  },
  {
   "cell_type": "markdown",
   "metadata": {},
   "source": [
    "### Checks for a valid response to P3\n"
   ]
  },
  {
   "cell_type": "code",
   "execution_count": null,
   "metadata": {},
   "outputs": [],
   "source": [
    "P3PositivePath = P3 > 9 and P3 < 961\n",
    "P3NegativePath = P3 == 0\n",
    "P3CLNPositivePath = P2PositivePath and P3PositivePath\n",
    "P3CLNNegativePath = P2NegativePath and P3NegativePath\n",
    "\n",
    "P3CLN = P2CLN and (P3CLNPositivePath or P3CLNNegativePath)"
   ]
  },
  {
   "cell_type": "code",
   "execution_count": null,
   "metadata": {},
   "outputs": [],
   "source": [
    "P3CLN = True if (P2CLN == True and P2 > 0 and P2 < 8 and P3 > 9 and P3 < 961) or (\n",
    "    P2CLN == True and (P2 == 0 or P2 == 99) and P3 == 0) else False"
   ]
  },
  {
   "cell_type": "markdown",
   "metadata": {},
   "source": [
    "### Checks for valid response to P1 through P3a&b.\n"
   ]
  },
  {
   "cell_type": "code",
   "execution_count": null,
   "metadata": {},
   "outputs": [],
   "source": [
    "Valid = P1 == 2"
   ]
  },
  {
   "cell_type": "code",
   "execution_count": null,
   "metadata": {},
   "outputs": [],
   "source": [
    "P1t3CLN = P2NegativePath and P3NegativePath and Valid"
   ]
  },
  {
   "cell_type": "code",
   "execution_count": null,
   "metadata": {},
   "outputs": [],
   "source": [
    "P1t3CLN = 1 if ((P2 == 0 or P2 == 99) and P3 == 0 and Valid == 1) else 2"
   ]
  },
  {
   "cell_type": "markdown",
   "metadata": {},
   "source": [
    "## Make functions\n"
   ]
  },
  {
   "cell_type": "code",
   "execution_count": 4,
   "metadata": {},
   "outputs": [],
   "source": [
    "def getP2CLN(P1: bool, P2NegativePath, P2PositivePath):\n",
    "    return P1 and (P2PositivePath or P2NegativePath)"
   ]
  },
  {
   "cell_type": "code",
   "execution_count": 7,
   "metadata": {},
   "outputs": [],
   "source": [
    "def getP3CLN(P2CLN: bool, P2PositivePath: bool, P2NegativePath: bool, P3PositivePath: bool, P3NegativePath: bool):\n",
    "    P3CLNPositivePath = P2PositivePath and P3PositivePath\n",
    "    P3CLNNegativePath = P2NegativePath and P3NegativePath\n",
    "    return P2CLN and (P3CLNPositivePath or P3CLNNegativePath)"
   ]
  },
  {
   "cell_type": "code",
   "execution_count": 6,
   "metadata": {},
   "outputs": [],
   "source": [
    "def getP1t3CLN(valid: bool, P2NegativePath: bool, P3NegativePath: bool):\n",
    "    return P2NegativePath and P3NegativePath and Valid"
   ]
  },
  {
   "cell_type": "code",
   "execution_count": 3,
   "metadata": {},
   "outputs": [],
   "source": [
    "def cleanDomain(P1: bool, P2: int, P3: int) -> object:\n",
    "    P2PositivePath = P2 >= 1 and P2 <= 7\n",
    "    P2NegativePath = P2 == 0 or P2 == 99\n",
    "    P3PositivePath = P3 > 9 and P3 < 961\n",
    "    P3NegativePath = P3 == 0\n",
    "\n",
    "    P2CLN = getP2CLN(P1, P2NegativePath, P3NegativePath)\n",
    "    P3CLN = getP3CLN(P2CLN, P2PositivePath, P2NegativePath,\n",
    "                     P3PositivePath, P3NegativePath)\n",
    "\n",
    "    P1t3CLN = getP1t3CLN(not P1, P2NegativePath, P3NegativePath)\n",
    "\n",
    "    return {P1t3CLN, P3CLN, P2CLN}"
   ]
  }
 ],
 "metadata": {
  "kernelspec": {
   "display_name": "env",
   "language": "python",
   "name": "python3"
  },
  "language_info": {
   "codemirror_mode": {
    "name": "ipython",
    "version": 3
   },
   "file_extension": ".py",
   "mimetype": "text/x-python",
   "name": "python",
   "nbconvert_exporter": "python",
   "pygments_lexer": "ipython3",
   "version": "3.12.6"
  }
 },
 "nbformat": 4,
 "nbformat_minor": 2
}
