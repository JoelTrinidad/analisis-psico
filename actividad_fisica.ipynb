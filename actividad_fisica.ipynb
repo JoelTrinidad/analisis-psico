{
 "cells": [
  {
   "cell_type": "code",
   "execution_count": null,
   "metadata": {},
   "outputs": [],
   "source": [
    "from tools.clean_functions import getP1t3CLN, getP16CLN"
   ]
  },
  {
   "cell_type": "code",
   "execution_count": null,
   "metadata": {},
   "outputs": [],
   "source": [
    "P1 = 0\n",
    "P2 = 0\n",
    "P3 = 0\n",
    "P4 = 0\n",
    "P5 = 0\n",
    "P6 = 0\n",
    "P7 = 0\n",
    "P8 = 0\n",
    "P9 = 0\n",
    "P10 = 0\n",
    "P11 = 0\n",
    "P12 = 0\n",
    "P13 = 0\n",
    "P14 = 0\n",
    "P15 = 0"
   ]
  },
  {
   "cell_type": "markdown",
   "metadata": {},
   "source": [
    "##### Percentage of respondents not meeting WHO recommendations on physical activity for health"
   ]
  },
  {
   "cell_type": "code",
   "execution_count": null,
   "metadata": {},
   "outputs": [],
   "source": [
    "vigWorkMET = (P2 * P3 * 8) \n",
    "modWorkMET = (P5 *  P6 * 4)\n",
    "travelMET = (P8 * P9 * 4)\n",
    "vigRecreationMET = (P11 * P12 * 8)\n",
    "modRecreationMET = (P14 * P15 * 4)\n"
   ]
  },
  {
   "cell_type": "code",
   "execution_count": null,
   "metadata": {},
   "outputs": [],
   "source": [
    "\"\"\"TPA_MET = [(P2 * P3 * 8) + (P5 *  P6 * 4) + (P8 * P9 * 4) + (P11 * P12 * 8) + (P14 * P15* 4)]\"\"\"\n",
    "\n",
    "TPA_MET = vigWorkMET + modWorkMET + travelMET, vigRecreationMET + modRecreationMET "
   ]
  },
  {
   "cell_type": "markdown",
   "metadata": {},
   "source": [
    "### Output"
   ]
  },
  {
   "cell_type": "code",
   "execution_count": null,
   "metadata": {},
   "outputs": [],
   "source": [
    "C = \"Does not meet recommendations\" if TPA_MET < 600 else \"Meets recommendations\""
   ]
  },
  {
   "cell_type": "markdown",
   "metadata": {},
   "source": []
  },
  {
   "cell_type": "markdown",
   "metadata": {},
   "source": [
    "##### Mean / median time of total physical activity on average per day"
   ]
  },
  {
   "cell_type": "code",
   "execution_count": null,
   "metadata": {},
   "outputs": [],
   "source": [
    "P1t3 = P2*P3\n",
    "P4t6 = P5*P6\n",
    "P7t9 = P8*P9\n",
    "P10t12 = P11*P12\n",
    "P13t15 = P14*P15"
   ]
  },
  {
   "cell_type": "code",
   "execution_count": null,
   "metadata": {},
   "outputs": [],
   "source": [
    "Ptotalday = (P1t3 + P4t6 + P7t9 + P10t12 + P13t15)/7"
   ]
  },
  {
   "cell_type": "markdown",
   "metadata": {},
   "source": [
    "##### Mean / median number of minutes spent on average per day, in work, transport and recreation-related physical activity. "
   ]
  },
  {
   "cell_type": "code",
   "execution_count": null,
   "metadata": {},
   "outputs": [],
   "source": [
    "Pworkday = (P1t3 + P4t6)/7\n",
    "Ptravelday = P7t9/7\n",
    "Precday = (P10t12 + P13t15)/7"
   ]
  },
  {
   "cell_type": "code",
   "execution_count": null,
   "metadata": {},
   "outputs": [],
   "source": [
    "mean = (Pworkday + Ptravelday + Precday) / 3"
   ]
  },
  {
   "cell_type": "markdown",
   "metadata": {},
   "source": [
    "##### Percentage of respondents classified as doing no work, transport, or recreation-related physical activity"
   ]
  },
  {
   "cell_type": "code",
   "execution_count": null,
   "metadata": {},
   "outputs": [],
   "source": [
    "work = \"Did work activity\" if P1 or P4 else \"Did no work activity\"\n",
    "\n",
    "trans = \"Did transport activity\" if P7 else \"Did no transport activity\"\n",
    "\n",
    "rec = \"Did recreation activity\" if P10 or P13 else \"Did no recreation activity\""
   ]
  },
  {
   "cell_type": "markdown",
   "metadata": {},
   "source": [
    "##### Percentage of total physical activity on average per day that comes from each of the 3 types of activity: work-, transport-, or recreation-related. "
   ]
  },
  {
   "cell_type": "code",
   "execution_count": null,
   "metadata": {},
   "outputs": [],
   "source": [
    "Ptotal = P1t3 + P4t6 + P7t9 + P10t12 + P13t15\n",
    "\n",
    "percentWork = (P1t3 + P4t6) / Ptotal * 100\n",
    "percentTrans = P7t9 / Ptotal * 100\n",
    "percentRec = (P10t12 + P13t15) / Ptotal * 100"
   ]
  },
  {
   "cell_type": "markdown",
   "metadata": {},
   "source": [
    "##### Percentage of respondents not engaging in vigorous physical activity."
   ]
  },
  {
   "cell_type": "code",
   "execution_count": null,
   "metadata": {},
   "outputs": [],
   "source": [
    "vigPhyActivity = \"did vigorous physical activity\" if P1 or P10 else \"did no vigorous physical activity\""
   ]
  }
 ],
 "metadata": {
  "kernelspec": {
   "display_name": "env",
   "language": "python",
   "name": "python3"
  },
  "language_info": {
   "codemirror_mode": {
    "name": "ipython",
    "version": 3
   },
   "file_extension": ".py",
   "mimetype": "text/x-python",
   "name": "python",
   "nbconvert_exporter": "python",
   "pygments_lexer": "ipython3",
   "version": "3.11.4"
  }
 },
 "nbformat": 4,
 "nbformat_minor": 2
}
